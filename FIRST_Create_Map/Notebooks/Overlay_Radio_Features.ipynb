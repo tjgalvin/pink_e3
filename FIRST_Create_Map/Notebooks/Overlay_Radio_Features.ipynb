{
 "cells": [
  {
   "cell_type": "code",
   "execution_count": 1,
   "metadata": {},
   "outputs": [],
   "source": [
    "%matplotlib inline\n",
    "import matplotlib\n",
    "matplotlib.rcParams['text.usetex'] = True\n",
    "\n",
    "import pink_utils as pu\n",
    "import matplotlib.pyplot as plt\n",
    "import numpy as np\n",
    "import pandas as pd\n",
    "import astropy.units as u\n",
    "from astropy.coordinates import SkyCoord\n",
    "import pickle\n",
    "from scipy.stats import percentileofscore\n",
    "from mpl_toolkits.axes_grid1 import make_axes_locatable"
   ]
  },
  {
   "cell_type": "code",
   "execution_count": 2,
   "metadata": {},
   "outputs": [],
   "source": [
    "FIRST_PIX = 1.8*u.arcsecond # Pixel size of FIRST survey. Square pixels\n",
    "FIRST_FWHM = 5*u.arcsecond / FIRST_PIX\n",
    "FIRST_SIG = FIRST_FWHM / 2.355"
   ]
  },
  {
   "cell_type": "code",
   "execution_count": 3,
   "metadata": {},
   "outputs": [
    {
     "name": "stderr",
     "output_type": "stream",
     "text": [
      "100%|██████████| 178859/178859 [00:02<00:00, 75589.33it/s]\n"
     ]
    }
   ],
   "source": [
    "df        = pd.read_csv('../FIRST_F1W1_95_5_Sources.csv')\n",
    "transform = pu.transform('../Small/FIRST_F1W1_95_5_Small_Transform.bin')\n",
    "ed        = pu.heatmap('../Small/FIRST_F1W1_95_5_Small_Similarity.bin')\n",
    "som       = pu.som('../Small/FIRST_F1W1_95_5_L1_SOM_Small_5.bin')\n",
    "images    = pu.image_binary('../FIRST_F1W1_95_5_imgs.bin')\n",
    "\n",
    "with open('../Small/FIRST_F1W1_95_5_L1_SOM_Small_5_Features-table.pkl','rb') as infile:\n",
    "    annotations = pickle.load(infile)"
   ]
  },
  {
   "cell_type": "code",
   "execution_count": 4,
   "metadata": {},
   "outputs": [
    {
     "name": "stdout",
     "output_type": "stream",
     "text": [
      "(2, 12, 12, 1, 118, 118)\n",
      "(178859, 2, 167, 167)\n",
      "(178859, 12, 12, 1)\n",
      "(178859, 12, 12, 1)\n",
      "(178859, 29)\n"
     ]
    }
   ],
   "source": [
    "print(som.file_head)\n",
    "print(images.file_head)\n",
    "print(transform.file_head)\n",
    "print(ed.file_head)\n",
    "print(df.shape)"
   ]
  },
  {
   "cell_type": "code",
   "execution_count": 5,
   "metadata": {},
   "outputs": [],
   "source": [
    "def return_transform(index, pos_min):\n",
    "    rot = transform.transform(index=index).reshape(transform.header_info[1:])\n",
    "    flip, ro = rot[pos_min[1], pos_min[0]][0]    \n",
    "\n",
    "    return flip, ro\n",
    "\n",
    "def return_bmu(index, best=True):\n",
    "    hmap = ed.ed(index=index)\n",
    "    if best:\n",
    "        pos_min = np.unravel_index(np.argmin(hmap), hmap.shape)\n",
    "    else:\n",
    "        pos_min = np.unravel_index(np.argmax(hmap), hmap.shape)\n",
    "    \n",
    "    \n",
    "    return pos_min\n",
    "    \n",
    "def return_hmap_stats(index):\n",
    "    hmap = ed.ed(index=index)\n",
    "    stats = {'min': np.min(hmap),\n",
    "             'max': np.max(hmap),\n",
    "             'sum': np.sum(hmap),\n",
    "             'hmap':hmap}\n",
    "\n",
    "    return stats\n"
   ]
  },
  {
   "cell_type": "code",
   "execution_count": 6,
   "metadata": {
    "scrolled": false
   },
   "outputs": [
    {
     "name": "stdout",
     "output_type": "stream",
     "text": [
      "Finished\n"
     ]
    }
   ],
   "source": [
    "plt.close('all')\n",
    "\n",
    "max_index = 2000\n",
    "cmap = 'Greys'\n",
    "for count, (index, row) in enumerate(df.iterrows()):\n",
    "    \n",
    "    if count !=index:\n",
    "        print('Mismatch', index, count)\n",
    "    \n",
    "    # Here for testing\n",
    "    if index > max_index:\n",
    "        break\n",
    "    \n",
    "    sky_pos = SkyCoord(ra=row['RA']*u.deg, dec=row['DEC']*u.deg)\n",
    "    radio_img = np.arcsinh(images.get_image(index=index, channel=0))\n",
    "    ir_img =np.arcsinh(images.get_image(index=index, channel=1))\n",
    "    \n",
    "    # Get rotation information\n",
    "    # ---------------------------------------------------------\n",
    "    bmu_pos    = return_bmu(count)\n",
    "    hmap_stats = return_hmap_stats(count)\n",
    "    trans_info  = return_transform(count, bmu_pos)\n",
    "    # ---------------------------------------------------------\n",
    "    \n",
    "    # Annotate_map_features.py script recorded positions around the \n",
    "    # incorrect convention\n",
    "    key = (bmu_pos[1], bmu_pos[0]) + (0,)\n",
    "    bmu = annotations[key]\n",
    "    \n",
    "    radio_feat_trans = np.array(bmu.transform_clicks(trans_info, channel=0))\n",
    "    ir_feat_trans    = np.array(bmu.transform_clicks(trans_info, channel=1))\n",
    "    \n",
    "    fig, ((ax1,ax2,ax3),(ax4,ax5,ax6)) = plt.subplots(2,3, figsize=(10,6))\n",
    "    \n",
    "    cen = np.array(radio_img.shape)/2\n",
    "    ax1.imshow(radio_img, cmap=cmap)\n",
    "    ax1.plot(radio_feat_trans[:,0]+cen[0],\n",
    "             radio_feat_trans[:,1]+cen[1],\n",
    "             'r*', ms=15)\n",
    "    \n",
    "    zoom_radio_img = pu.zoom(radio_img, 50,50)\n",
    "    cen = np.array(zoom_radio_img.shape)/2\n",
    "\n",
    "    ax2.imshow(zoom_radio_img, cmap=cmap)\n",
    "    ax2.plot(radio_feat_trans[:,0]+cen[0],\n",
    "            radio_feat_trans[:,1]+cen[1],\n",
    "            'r*', ms=15, label='Radio Click')\n",
    "    ax2.scatter(ir_feat_trans[:,0]+cen[0],\n",
    "                ir_feat_trans[:,1]+cen[1],\n",
    "                facecolors='none', edgecolors='blue', s=150, \n",
    "                linewidths=5, label='IR Click')\n",
    "    ax2.legend()\n",
    "    \n",
    "    score = percentileofscore(ed.data[:,key[1],key[0]], ed.data[index, key[1], key[0]])\n",
    "    ax3.hist(ed.data[:,key[1],key[0]], bins=50)\n",
    "    ax3.axvline(ed.data[index, key[1], key[0]], c='black', label=f'This source - {score:.2f}\\%')\n",
    "    ax3.set(xlabel=f'ED for ({key[0],key[1]}) neuron')\n",
    "    ax3.legend()\n",
    "    \n",
    "    cen = np.array(radio_img.shape)/2\n",
    "    ax4.imshow(ir_img, cmap=cmap)\n",
    "    ax4.plot(radio_feat_trans[:,0]+cen[0],\n",
    "             radio_feat_trans[:,1]+cen[1],\n",
    "             'r*', ms=15)\n",
    "    ax4.scatter(ir_feat_trans[:,0]+cen[0],\n",
    "                ir_feat_trans[:,1]+cen[1],\n",
    "                facecolors='none', edgecolors='blue', s=150, \n",
    "                linewidths=5, label='IR Click')\n",
    "    \n",
    "    zoom_ir_img = pu.zoom(ir_img, 50,50)\n",
    "    cen = np.array(zoom_ir_img.shape)/2\n",
    "\n",
    "    ax5.imshow(zoom_ir_img, cmap=cmap)\n",
    "    ax5.plot(radio_feat_trans[:,0]+cen[0],\n",
    "            radio_feat_trans[:,1]+cen[1],\n",
    "            'r*', ms=15, label='Radio Click')\n",
    "    ax5.scatter(ir_feat_trans[:,0]+cen[0],\n",
    "                ir_feat_trans[:,1]+cen[1],\n",
    "                facecolors='none', edgecolors='blue', s=150, \n",
    "                linewidths=5, label='IR Click')\n",
    "    ax5.legend()\n",
    "    \n",
    "    heat = ed.ed(index=index)\n",
    "    pos = np.unravel_index(np.argmin(heat, axis=None), heat.shape)\n",
    "    im = ax6.imshow(heat)\n",
    "    ax6.plot(pos[1], pos[0], 'ro')\n",
    "    \n",
    "    divider = make_axes_locatable(ax6)\n",
    "    cax6 = divider.append_axes('right',size='5%', pad=0.05)\n",
    "    fig.colorbar(im, cax=cax6, label='Euclidean Distance')\n",
    "    \n",
    "    fig.suptitle(f\"FIRST Position {sky_pos.to_string('hmsdms')}\")\n",
    "    fig.tight_layout(rect=[0,0,0.95,0.95])\n",
    "    fig.savefig(f\"Radio_Feature_Overlay/{index}.png\")\n",
    "    plt.close(fig)\n",
    "#     fig.show()\n",
    "\n",
    "print('Finished')"
   ]
  },
  {
   "cell_type": "code",
   "execution_count": null,
   "metadata": {},
   "outputs": [],
   "source": []
  }
 ],
 "metadata": {
  "kernelspec": {
   "display_name": "Python [conda env:pink_e3]",
   "language": "python",
   "name": "conda-env-pink_e3-py"
  },
  "language_info": {
   "codemirror_mode": {
    "name": "ipython",
    "version": 3
   },
   "file_extension": ".py",
   "mimetype": "text/x-python",
   "name": "python",
   "nbconvert_exporter": "python",
   "pygments_lexer": "ipython3",
   "version": "3.7.1"
  }
 },
 "nbformat": 4,
 "nbformat_minor": 2
}
