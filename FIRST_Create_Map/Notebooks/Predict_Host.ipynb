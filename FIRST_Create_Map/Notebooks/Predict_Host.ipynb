{
 "cells": [
  {
   "cell_type": "code",
   "execution_count": 1,
   "metadata": {},
   "outputs": [],
   "source": [
    "%matplotlib inline\n",
    "import pickle\n",
    "import matplotlib.pyplot as plt\n",
    "import numpy as np\n",
    "import pink_utils as pu\n",
    "import pandas as pd\n",
    "import astropy.units as u\n",
    "from tqdm import tqdm\n",
    "from astropy.coordinates import SkyCoord, search_around_sky\n",
    "from pink_utils import Annotation"
   ]
  },
  {
   "cell_type": "code",
   "execution_count": 2,
   "metadata": {},
   "outputs": [],
   "source": [
    "FIRST_PIX = 1.8*u.arcsecond # Pixel size of FIRST survey. Square pixels\n",
    "FIRST_FWHM = 5*u.arcsecond / FIRST_PIX\n",
    "FIRST_SIG = FIRST_FWHM / 2.355"
   ]
  },
  {
   "cell_type": "code",
   "execution_count": 3,
   "metadata": {},
   "outputs": [],
   "source": [
    "df        = pd.read_csv('../FIRST_F1W1_95_5_Sources.csv')\n",
    "transform = pu.transform('../Small/FIRST_F1W1_95_5_Small_Transform.bin')\n",
    "ed        = pu.heatmap('../Small/FIRST_F1W1_95_5_Small_Similarity.bin')\n",
    "som       = pu.som('../Small/FIRST_F1W1_95_5_L1_SOM_Small_5.bin')\n",
    "images    = pu.image_binary('../FIRST_F1W1_95_5_imgs.bin')\n",
    "\n",
    "with open('../Small/FIRST_F1W1_95_5_L1_SOM_Small_5_Features-table.pkl','rb') as infile:\n",
    "    annotations = pickle.load(infile)"
   ]
  },
  {
   "cell_type": "code",
   "execution_count": 4,
   "metadata": {},
   "outputs": [
    {
     "name": "stdout",
     "output_type": "stream",
     "text": [
      "(2, 12, 12, 1, 118, 118)\n",
      "(178859, 2, 167, 167)\n",
      "(178859, 12, 12, 1)\n",
      "(178859, 12, 12, 1)\n",
      "(178859, 29)\n"
     ]
    }
   ],
   "source": [
    "print(som.file_head)\n",
    "print(images.file_head)\n",
    "print(transform.file_head)\n",
    "print(ed.file_head)\n",
    "print(df.shape)\n",
    "NEURON_SIZE = som.file_head[-1] # Equal dimensions "
   ]
  },
  {
   "cell_type": "code",
   "execution_count": 5,
   "metadata": {},
   "outputs": [
    {
     "name": "stderr",
     "output_type": "stream",
     "text": [
      "178859it [47:20, 62.97it/s]\n"
     ]
    }
   ],
   "source": [
    "plt.close('all')        \n",
    "\n",
    "ms = ['o','*','>']\n",
    "c  = ['red', 'blue', 'black']\n",
    "cmap = 'Greys'\n",
    "\n",
    "for (count, (index, row)) in tqdm(enumerate(df.iterrows())):\n",
    "\n",
    "    if count != index:\n",
    "        print('Mistmatch', index, count)\n",
    "    \n",
    "#     # Limit reached lets move on\n",
    "#     if index > 50000:\n",
    "#         break\n",
    "        \n",
    "    cen_pos = SkyCoord(ra=row['RA']*u.deg, dec=row['DEC']*u.deg)\n",
    "    \n",
    "    bmu_pos    = ed.get_bmu(index)\n",
    "    trans_info = transform.get_neuron_transform(index, bmu_pos)\n",
    "    \n",
    "    # Annotate_map_features.py script recorded positions around the \n",
    "    # incorrect convention\n",
    "    key = (bmu_pos[1], bmu_pos[0]) + (0,)\n",
    "    bmu = annotations[key]\n",
    "    \n",
    "    # Transform annotated clicks \n",
    "    ir_feature_trans = bmu.transform_clicks(trans_info, channel=1)\n",
    "    \n",
    "    dx, dy = ir_feature_trans[0]\n",
    "    comp_pos = pu.estimate_position(cen_pos, dx, dy, pix_scale=FIRST_PIX)\n",
    "\n",
    "    df.loc[index, 'host.ra'] = comp_pos.ra.deg\n",
    "    df.loc[index, 'host.dec'] = comp_pos.dec.deg    "
   ]
  },
  {
   "cell_type": "code",
   "execution_count": 6,
   "metadata": {},
   "outputs": [],
   "source": [
    "mask = np.isfinite(df['host.ra'])\n",
    "\n",
    "host_positions = SkyCoord(ra=df.loc[mask, 'host.ra'].values*u.deg, \n",
    "                          dec=df.loc[mask,'host.dec'].values*u.deg, frame='icrs')\n",
    "host_results = search_around_sky(host_positions, host_positions, seplimit=5*u.arcsec)\n",
    "\n",
    "df[mask].to_csv('Test.csv')"
   ]
  },
  {
   "cell_type": "code",
   "execution_count": 7,
   "metadata": {},
   "outputs": [
    {
     "data": {
      "text/plain": [
       "(184193,)"
      ]
     },
     "execution_count": 7,
     "metadata": {},
     "output_type": "execute_result"
    }
   ],
   "source": [
    "host_results[0].shape"
   ]
  },
  {
   "cell_type": "code",
   "execution_count": 8,
   "metadata": {},
   "outputs": [
    {
     "data": {
      "text/plain": [
       "(178859,)"
      ]
     },
     "execution_count": 8,
     "metadata": {},
     "output_type": "execute_result"
    }
   ],
   "source": [
    "mask.shape"
   ]
  },
  {
   "cell_type": "code",
   "execution_count": null,
   "metadata": {},
   "outputs": [],
   "source": []
  }
 ],
 "metadata": {
  "kernelspec": {
   "display_name": "Python [conda env:pink_e3]",
   "language": "python",
   "name": "conda-env-pink_e3-py"
  },
  "language_info": {
   "codemirror_mode": {
    "name": "ipython",
    "version": 3
   },
   "file_extension": ".py",
   "mimetype": "text/x-python",
   "name": "python",
   "nbconvert_exporter": "python",
   "pygments_lexer": "ipython3",
   "version": "3.7.1"
  }
 },
 "nbformat": 4,
 "nbformat_minor": 2
}
