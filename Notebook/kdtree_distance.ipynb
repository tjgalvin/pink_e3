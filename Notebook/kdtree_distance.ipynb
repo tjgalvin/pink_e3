{
 "cells": [
  {
   "cell_type": "code",
   "execution_count": 1,
   "metadata": {},
   "outputs": [],
   "source": [
    "%matplotlib inline\n",
    "import numpy as np\n",
    "import pandas as pd\n",
    "import astropy as apy\n",
    "import sklearn.neighbors as skn\n",
    "import matplotlib.pyplot as plt\n",
    "import astropy.units as u\n",
    "from astropy.coordinates import SkyCoord"
   ]
  },
  {
   "cell_type": "code",
   "execution_count": 2,
   "metadata": {},
   "outputs": [
    {
     "name": "stderr",
     "output_type": "stream",
     "text": [
      "/Users/gal16b/miniconda3/envs/pink_e3/lib/python3.7/site-packages/IPython/core/interactiveshell.py:3018: DtypeWarning: Columns (73,74) have mixed types. Specify dtype option on import or set low_memory=False.\n",
      "  interactivity=interactivity, compiler=compiler, result=result)\n"
     ]
    }
   ],
   "source": [
    "csv = pd.read_csv('../Experiment/Experiment_F3W2_95_5/FIRST_Cata_Images.csv')"
   ]
  },
  {
   "cell_type": "code",
   "execution_count": 3,
   "metadata": {},
   "outputs": [],
   "source": [
    "csv.columns.tolist()\n",
    "ra = np.deg2rad(csv['radio.ra'])\n",
    "dec = np.deg2rad(csv['radio.dec'])\n",
    "points = np.array((ra, dec)).T\n",
    "index = csv.index"
   ]
  },
  {
   "cell_type": "code",
   "execution_count": 4,
   "metadata": {},
   "outputs": [],
   "source": [
    "kdtree = skn.BallTree(points, metric='haversine')"
   ]
  },
  {
   "cell_type": "code",
   "execution_count": 5,
   "metadata": {},
   "outputs": [],
   "source": [
    "dist, ind = kdtree.query(points[2].reshape((1,-1)), k=3)"
   ]
  },
  {
   "cell_type": "code",
   "execution_count": 6,
   "metadata": {},
   "outputs": [
    {
     "data": {
      "text/plain": [
       "57.50313205867317"
      ]
     },
     "execution_count": 6,
     "metadata": {},
     "output_type": "execute_result"
    }
   ],
   "source": [
    "dist[0,1]*u.radian.to(u.arcsecond)"
   ]
  },
  {
   "cell_type": "code",
   "execution_count": 7,
   "metadata": {},
   "outputs": [
    {
     "data": {
      "text/plain": [
       "(164.226080844, 23.3930434713)"
      ]
     },
     "execution_count": 7,
     "metadata": {},
     "output_type": "execute_result"
    }
   ],
   "source": [
    "ra[ind[0,1]]*u.radian.to(u.deg), dec[ind[0,1]]*u.radian.to(u.deg)"
   ]
  },
  {
   "cell_type": "code",
   "execution_count": 8,
   "metadata": {},
   "outputs": [
    {
     "data": {
      "text/plain": [
       "radio.ra     164.226\n",
       "radio.dec     23.393\n",
       "Name: 3, dtype: object"
      ]
     },
     "execution_count": 8,
     "metadata": {},
     "output_type": "execute_result"
    }
   ],
   "source": [
    "csv.iloc[ind[0,1]][['radio.ra', 'radio.dec']]"
   ]
  },
  {
   "cell_type": "code",
   "execution_count": 9,
   "metadata": {},
   "outputs": [
    {
     "data": {
      "text/plain": [
       "radio.ra     164.214\n",
       "radio.dec    23.3822\n",
       "Name: 2, dtype: object"
      ]
     },
     "execution_count": 9,
     "metadata": {},
     "output_type": "execute_result"
    }
   ],
   "source": [
    "csv.iloc[2][['radio.ra', 'radio.dec']]"
   ]
  },
  {
   "cell_type": "code",
   "execution_count": 10,
   "metadata": {},
   "outputs": [
    {
     "data": {
      "text/plain": [
       "(164.21399903200003, 23.382185861700002)"
      ]
     },
     "execution_count": 10,
     "metadata": {},
     "output_type": "execute_result"
    }
   ],
   "source": [
    "ra[2]*u.radian.to(u.deg), dec[2]*u.radian.to(u.deg)"
   ]
  },
  {
   "cell_type": "code",
   "execution_count": 11,
   "metadata": {},
   "outputs": [
    {
     "data": {
      "text/latex": [
       "$0^\\circ00{}^\\prime55.8705{}^{\\prime\\prime}$"
      ],
      "text/plain": [
       "<Angle 0.01551958 deg>"
      ]
     },
     "execution_count": 11,
     "metadata": {},
     "output_type": "execute_result"
    }
   ],
   "source": [
    "a = SkyCoord(ra=164.226080844*u.deg, dec=23.3930434713*u.deg, frame='icrs')\n",
    "b = SkyCoord(ra=164.21399903200003*u.deg, dec=23.382185861700002*u.deg, frame='icrs')\n",
    "\n",
    "a.separation(b)"
   ]
  },
  {
   "cell_type": "code",
   "execution_count": 12,
   "metadata": {},
   "outputs": [],
   "source": [
    "ccc = b.spherical_offsets_to(a)*u.radian"
   ]
  },
  {
   "cell_type": "code",
   "execution_count": 13,
   "metadata": {},
   "outputs": [
    {
     "data": {
      "text/latex": [
       "$[0.0001935347,~0.00018950913] \\; \\mathrm{rad}$"
      ],
      "text/plain": [
       "<Quantity [0.00019353, 0.00018951] rad>"
      ]
     },
     "execution_count": 13,
     "metadata": {},
     "output_type": "execute_result"
    }
   ],
   "source": [
    "ccc"
   ]
  },
  {
   "cell_type": "code",
   "execution_count": 14,
   "metadata": {},
   "outputs": [
    {
     "data": {
      "text/latex": [
       "$54.84994 \\; \\mathrm{{}^{\\prime\\prime}}$"
      ],
      "text/plain": [
       "<Quantity 54.84993955 arcsec>"
      ]
     },
     "execution_count": 14,
     "metadata": {},
     "output_type": "execute_result"
    }
   ],
   "source": [
    "(2*np.arcsin(np.sqrt(np.sin(ccc[0] * 0.5)**2 + \n",
    "             np.cos(a.ra.to(u.radian)) * np.cos(b.ra.to(u.radian))*np.sin(ccc[1]*0.5)**2))).to(u.arcsecond)"
   ]
  },
  {
   "cell_type": "code",
   "execution_count": 17,
   "metadata": {},
   "outputs": [
    {
     "data": {
      "text/latex": [
       "$55.870505 \\; \\mathrm{{}^{\\prime\\prime}}$"
      ],
      "text/plain": [
       "<Quantity 55.8705045 arcsec>"
      ]
     },
     "execution_count": 17,
     "metadata": {},
     "output_type": "execute_result"
    }
   ],
   "source": [
    "from astropy.coordinates.angle_utilities import angular_separation\n",
    "\n",
    "angular_separation(a.ra.to(u.radian), a.dec.to(u.radian),b.ra.to(u.radian), b.dec.to(u.radian)).to(u.arcsecond)"
   ]
  },
  {
   "cell_type": "code",
   "execution_count": 52,
   "metadata": {},
   "outputs": [],
   "source": [
    "def sep(a, b):\n",
    "    \"\"\" Code modified from astropy.coordinates.angle_utils.angular_separation\n",
    "    \"\"\"\n",
    "    # Long is 0, lat is 1\n",
    "    long = 0\n",
    "    lat = 1\n",
    "    print(a)\n",
    "    sdlon = np.sin(b[long,:] - a[long,:])\n",
    "    cdlon = np.cos(b[long,:] - a[long,:])\n",
    "    slat1 = np.sin(a[lat,:])\n",
    "    slat2 = np.sin(b[lat,:])\n",
    "    clat1 = np.cos(a[lat,:])\n",
    "    clat2 = np.cos(b[lat,:])\n",
    "    \n",
    "    num1 = clat2 * sdlon\n",
    "    num2 = clat1 * slat2 - slat1 * clat2 * cdlon\n",
    "    denominator = slat1 * slat2 + clat1 * clat2 * cdlon\n",
    "\n",
    "    return np.arctan2(np.hypot(num1, num2), denominator)\n",
    "\n",
    "def sep2(a, b):\n",
    "    \"\"\" Code modified from astropy.coordinates.angle_utils.angular_separation\n",
    "    \"\"\"\n",
    "    sdlon = np.sin(b[0] - a[0])\n",
    "    cdlon = np.cos(b[0] - a[0])\n",
    "    slat1 = np.sin(a[1])\n",
    "    slat2 = np.sin(b[1])\n",
    "    clat1 = np.cos(a[1])\n",
    "    clat2 = np.cos(b[1])\n",
    "    \n",
    "    num1 = clat2 * sdlon\n",
    "    num2 = clat1 * slat2 - slat1 * clat2 * cdlon\n",
    "    denominator = slat1 * slat2 + clat1 * clat2 * cdlon\n",
    "\n",
    "    return np.arctan2(np.hypot(num1, num2), denominator)"
   ]
  },
  {
   "cell_type": "code",
   "execution_count": 53,
   "metadata": {},
   "outputs": [
    {
     "name": "stdout",
     "output_type": "stream",
     "text": [
      "[[2.86628583]\n",
      " [0.40828563]]\n"
     ]
    },
    {
     "data": {
      "text/plain": [
       "55.870504502216846"
      ]
     },
     "execution_count": 53,
     "metadata": {},
     "output_type": "execute_result"
    }
   ],
   "source": [
    "sep(np.array([[a.ra.to(u.radian).value], [a.dec.to(u.radian).value]]),\n",
    "    np.array([[b.ra.to(u.radian).value], [b.dec.to(u.radian).value]]))[0]*u.radian.to(u.arcsecond)"
   ]
  },
  {
   "cell_type": "code",
   "execution_count": 54,
   "metadata": {},
   "outputs": [],
   "source": [
    "from sklearn.neighbors import DistanceMetric as dm"
   ]
  },
  {
   "cell_type": "code",
   "execution_count": 55,
   "metadata": {},
   "outputs": [],
   "source": [
    "kdtree = skn.BallTree(points, metric='pyfunc', func=sep2)"
   ]
  },
  {
   "cell_type": "code",
   "execution_count": 56,
   "metadata": {},
   "outputs": [
    {
     "data": {
      "text/plain": [
       "55.87050450228054"
      ]
     },
     "execution_count": 56,
     "metadata": {},
     "output_type": "execute_result"
    }
   ],
   "source": [
    "dist, ind = kdtree.query(points[2].reshape((1,-1)), k=3)\n",
    "dist[0,1]*u.radian.to(u.arcsecond)\n"
   ]
  },
  {
   "cell_type": "code",
   "execution_count": null,
   "metadata": {},
   "outputs": [],
   "source": []
  }
 ],
 "metadata": {
  "kernelspec": {
   "display_name": "Python [conda env:pink_e3]",
   "language": "python",
   "name": "conda-env-pink_e3-py"
  },
  "language_info": {
   "codemirror_mode": {
    "name": "ipython",
    "version": 3
   },
   "file_extension": ".py",
   "mimetype": "text/x-python",
   "name": "python",
   "nbconvert_exporter": "python",
   "pygments_lexer": "ipython3",
   "version": "3.7.1"
  }
 },
 "nbformat": 4,
 "nbformat_minor": 2
}
