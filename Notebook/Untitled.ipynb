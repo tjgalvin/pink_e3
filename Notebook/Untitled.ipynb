{
 "cells": [
  {
   "cell_type": "code",
   "execution_count": 5,
   "metadata": {},
   "outputs": [
    {
     "name": "stdout",
     "output_type": "stream",
     "text": [
      "2.2.2\n"
     ]
    },
    {
     "data": {
      "image/png": "[encoded data removed]",
      "text/plain": [
       "<Figure size 432x288 with 4 Axes>"
      ]
     },
     "metadata": {},
     "output_type": "display_data"
    }
   ],
   "source": [
    "%matplotlib inline \n",
    "import matplotlib as mpl\n",
    "print(mpl.__version__)\n",
    "import matplotlib.pyplot as plt\n",
    "from mpl_toolkits.axes_grid1.axes_divider import make_axes_locatable\n",
    "from mpl_toolkits.axes_grid1.colorbar import colorbar\n",
    "\n",
    "fig, (ax1, ax2) = plt.subplots(1, 2)\n",
    "fig.subplots_adjust(wspace=0.5)\n",
    "\n",
    "im1 = ax1.imshow([[1, 2], [3, 4]])\n",
    "ax1_divider = make_axes_locatable(ax1)\n",
    "cax1 = ax1_divider.append_axes(\"right\", size=\"7%\", pad=\"2%\")\n",
    "cb1 = colorbar(im1, cax=cax1)\n",
    "\n",
    "im2 = ax2.imshow([[1, 2], [3, 4]])\n",
    "ax2_divider = make_axes_locatable(ax2)\n",
    "cax2 = ax2_divider.append_axes(\"top\", size=\"7%\", pad=\"2%\")\n",
    "cb2 = colorbar(im2, cax=cax2, orientation=\"horizontal\")\n",
    "cax2.xaxis.set_ticks_position(\"top\")\n",
    "\n",
    "plt.show()"
   ]
  },
  {
   "cell_type": "code",
   "execution_count": null,
   "metadata": {},
   "outputs": [],
   "source": []
  }
 ],
 "metadata": {
  "kernelspec": {
   "display_name": "Python [conda env:miniconda3]",
   "language": "python",
   "name": "conda-env-miniconda3-py"
  },
  "language_info": {
   "codemirror_mode": {
    "name": "ipython",
    "version": 3
   },
   "file_extension": ".py",
   "mimetype": "text/x-python",
   "name": "python",
   "nbconvert_exporter": "python",
   "pygments_lexer": "ipython3",
   "version": "3.6.5"
  }
 },
 "nbformat": 4,
 "nbformat_minor": 2
}
