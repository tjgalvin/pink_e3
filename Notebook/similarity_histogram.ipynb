{
 "cells": [
  {
   "cell_type": "code",
   "execution_count": 1,
   "metadata": {},
   "outputs": [],
   "source": [
    "%matplotlib inline\n",
    "import matplotlib.pyplot as plt\n",
    "import numpy as np\n",
    "import pandas as pd\n",
    "import pink_utils as pu\n",
    "import pickle "
   ]
  },
  {
   "cell_type": "code",
   "execution_count": 6,
   "metadata": {},
   "outputs": [
    {
     "name": "stderr",
     "output_type": "stream",
     "text": [
      "/Users/gal16b/miniconda3/envs/pink_e3/lib/python3.7/site-packages/IPython/core/interactiveshell.py:3018: DtypeWarning: Columns (74,75) have mixed types. Specify dtype option on import or set low_memory=False.\n",
      "  interactivity=interactivity, compiler=compiler, result=result)\n"
     ]
    }
   ],
   "source": [
    "ed = pu.heatmap('../Create_Map/Layer_1/F1W1_95_5_L1_ED.bin')\n",
    "df = pd.read_csv('../Create_Map/Layer_1/F1W1_95_5_Sources.csv')"
   ]
  },
  {
   "cell_type": "code",
   "execution_count": 7,
   "metadata": {},
   "outputs": [],
   "source": [
    "def ed_to_prob(data: np.ndarray, stretch: float=1.):\n",
    "    \"\"\"Convert the Euclidean distance matrix from PINK to a proability like matrix\n",
    "    \n",
    "    Arguments:\n",
    "        data {np.ndarray} -- Three dimension all of Euclidean distances [NImages, height, width]\n",
    "    \n",
    "    Keyword Arguments:\n",
    "        thresh {float} -- Stretching parameter to introduce non-linearity (default: {1.})\n",
    "    \n",
    "    Returns:\n",
    "        np.ndarray -- Probability matrix of shape [NImages, height, width]\n",
    "    \"\"\"\n",
    "\n",
    "    assert len(data.shape) == 3, 'Length not correct'\n",
    "    \n",
    "    prob = data - data.min(axis=(1,2))[:, None, None]\n",
    "    prob = 1. / (1. + prob)**stretch\n",
    "    prob = prob / prob.sum(axis=(1,2))[:, None, None]\n",
    "    \n",
    "    return prob\n",
    "\n",
    "def target_prob(prob: np.ndarray, mask: np.ndarray, match: float, negate: bool=False):\n",
    "    \"\"\"Derive and apply the probability of an object matching a label region\n",
    "    \n",
    "    Arguments:\n",
    "        prob {np.ndarray} -- Probability matrix of shape [NImage, height, width]\n",
    "        mask {np.ndarray} -- Mask of label region\n",
    "        match {float} -- Matching level a object needs to be included\n",
    "        \n",
    "    Keyword Arguments:\n",
    "        negate {bool} -- Negate the matching criteria (default: {1})\n",
    "    \n",
    "    Returns:\n",
    "        {np.ndarray} -- Matching probabilities for all objects\n",
    "        {np.ndarray} -- Indicies matching the criteria\n",
    "    \"\"\"\n",
    "    match_prob = prob[:,mask].sum(axis=1)\n",
    "    match_pos  = match_prob > match\n",
    "\n",
    "    if negate:\n",
    "        match_pos = ~match_pos\n",
    "\n",
    "    return match_prob, np.argwhere(match_pos).T[0]\n",
    "\n",
    "def make_mask(label: dict, target: str, shape: tuple, fill_val: int=1):\n",
    "    \"\"\"Produce a numpy mask array based on the location of labels matching\n",
    "    the target in the `label` dictionary.  \n",
    "    \n",
    "    Arguments:\n",
    "        label {dict} -- Dictionary whose keys are the location of the corresponding label valu\n",
    "        target {str} -- Desired target value to make mask for\n",
    "        shape {tuple} -- Shape of SOM map. TODO: Include this in label structure\n",
    "    \n",
    "    Keyword Arguments:\n",
    "        fill_val {int} -- Value to place in array when match found (default: {1})\n",
    "    \n",
    "    Returns:\n",
    "        [np.ndarray] -- Masking array\n",
    "    \"\"\"\n",
    "\n",
    "    mask = np.zeros(shape, dtype=type(fill_val))\n",
    "    for pos in label:\n",
    "        if label[pos] == target:\n",
    "            mask[pos] = fill_val\n",
    "\n",
    "    return mask\n",
    "\n",
    "def som_size(labels: dict):\n",
    "    \"\"\"Find the size of the SOM. Assume a quad shape\n",
    "    \n",
    "    Arguments:\n",
    "        labels {dict} -- The annotated labels of the SOM map. Keys are positions. \n",
    "    \"\"\"\n",
    "    pos = 0\n",
    "    key = (0,0)\n",
    "    for p in labels.keys():\n",
    "        if np.prod(p) > pos:\n",
    "            key = p\n",
    "    \n",
    "    return [k+1 for k in key]\n"
   ]
  },
  {
   "cell_type": "code",
   "execution_count": 8,
   "metadata": {},
   "outputs": [],
   "source": [
    "labels = pickle.load(open('../Create_Map/Layer_1/F1W1_95_5_L1_SOM_Annotation_labels.pkl', 'rb'))\n",
    "som_shape = som_size(labels)\n",
    "mask = make_mask(labels, '0', som_shape, fill_val=True)"
   ]
  },
  {
   "cell_type": "code",
   "execution_count": 30,
   "metadata": {},
   "outputs": [],
   "source": [
    "prob = ed_to_prob(ed.data, stretch=1)\n",
    "match_prob, match_idx = target_prob(prob, mask, 0.7, negate=False)\n",
    "df['match_prob'] = match_prob"
   ]
  },
  {
   "cell_type": "code",
   "execution_count": 31,
   "metadata": {},
   "outputs": [
    {
     "data": {
      "image/png": "[encoded data removed]",
      "text/plain": [
       "<Figure size 432x288 with 1 Axes>"
      ]
     },
     "metadata": {
      "needs_background": "light"
     },
     "output_type": "display_data"
    }
   ],
   "source": [
    "fig, ax = plt.subplots(1,1)\n",
    "\n",
    "ax.hist(df['match_prob'], bins=100)\n",
    "\n",
    "fig.show()"
   ]
  },
  {
   "cell_type": "code",
   "execution_count": 34,
   "metadata": {},
   "outputs": [
    {
     "data": {
      "image/png": "[encoded data removed]",
      "text/plain": [
       "<Figure size 432x288 with 1 Axes>"
      ]
     },
     "metadata": {
      "needs_background": "light"
     },
     "output_type": "display_data"
    }
   ],
   "source": [
    "fig, ax = plt.subplots(1,1)\n",
    "\n",
    "df.groupby('radio.number_peaks')['match_prob'].plot(kind='hist', bins=100, stacked=True, ax=ax, log=True)\n",
    "\n",
    "ax.axhline(1)\n",
    "ax.axhline(10)\n",
    "\n",
    "fig.legend()\n",
    "fig.show()"
   ]
  },
  {
   "cell_type": "code",
   "execution_count": null,
   "metadata": {},
   "outputs": [],
   "source": []
  },
  {
   "cell_type": "code",
   "execution_count": null,
   "metadata": {},
   "outputs": [],
   "source": []
  }
 ],
 "metadata": {
  "kernelspec": {
   "display_name": "Python [conda env:pink_e3]",
   "language": "python",
   "name": "conda-env-pink_e3-py"
  },
  "language_info": {
   "codemirror_mode": {
    "name": "ipython",
    "version": 3
   },
   "file_extension": ".py",
   "mimetype": "text/x-python",
   "name": "python",
   "nbconvert_exporter": "python",
   "pygments_lexer": "ipython3",
   "version": "3.7.1"
  }
 },
 "nbformat": 4,
 "nbformat_minor": 2
}
