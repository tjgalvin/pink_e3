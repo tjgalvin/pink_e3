{
 "cells": [
  {
   "cell_type": "code",
   "execution_count": 1,
   "metadata": {},
   "outputs": [],
   "source": [
    "%matplotlib inline\n",
    "import pickle\n",
    "import matplotlib.pyplot as plt\n",
    "import numpy as np\n",
    "import pink_utils as pu\n",
    "import pandas as pd\n",
    "import astropy.units as u\n",
    "from tqdm import tqdm\n",
    "from astropy.coordinates import SkyCoord, search_around_sky\n",
    "from pink_utils import Annotation\n",
    "from scipy.stats import percentileofscore"
   ]
  },
  {
   "cell_type": "code",
   "execution_count": 2,
   "metadata": {},
   "outputs": [],
   "source": [
    "FIRST_PIX = 1.8*u.arcsecond # Pixel size of FIRST survey. Square pixels\n",
    "FIRST_FWHM = 5*u.arcsecond / FIRST_PIX\n",
    "FIRST_SIG = FIRST_FWHM / 2.355"
   ]
  },
  {
   "cell_type": "code",
   "execution_count": 3,
   "metadata": {},
   "outputs": [],
   "source": [
    "df        = pd.read_csv('../FIRST_F1W1_95_5_Sources.csv')\n",
    "transform = pu.transform('../Small/FIRST_F1W1_95_5_Small_Transform.bin')\n",
    "ed        = pu.heatmap('../Small/FIRST_F1W1_95_5_Small_Similarity.bin')\n",
    "som       = pu.som('../Small/FIRST_F1W1_95_5_L1_SOM_Small_5.bin')\n",
    "# images    = pu.image_binary('../FIRST_F1W1_95_5_imgs.bin')\n",
    "\n",
    "with open('../Small/FIRST_F1W1_95_5_L1_SOM_Small_5_Features-table.pkl','rb') as infile:\n",
    "    annotations = pickle.load(infile)"
   ]
  },
  {
   "cell_type": "code",
   "execution_count": 4,
   "metadata": {},
   "outputs": [
    {
     "name": "stdout",
     "output_type": "stream",
     "text": [
      "(2, 12, 12, 1, 118, 118)\n",
      "(178859, 12, 12, 1)\n",
      "(178859, 12, 12, 1)\n",
      "(178859, 29)\n"
     ]
    }
   ],
   "source": [
    "print(som.file_head)\n",
    "# print(images.file_head)\n",
    "print(transform.file_head)\n",
    "print(ed.file_head)\n",
    "print(df.shape)\n",
    "NEURON_SIZE = som.file_head[-1] # Equal dimensions "
   ]
  },
  {
   "cell_type": "code",
   "execution_count": 5,
   "metadata": {},
   "outputs": [
    {
     "name": "stderr",
     "output_type": "stream",
     "text": [
      "178859it [1:18:26, 38.00it/s]\n"
     ]
    }
   ],
   "source": [
    "def bmu_pos_to_index(pos, width=20):\n",
    "    return pos[0]*width+pos[1]\n",
    "\n",
    "plt.close('all')        \n",
    "\n",
    "ms = ['o','*','>']\n",
    "c  = ['red', 'blue', 'black']\n",
    "cmap = 'Greys'\n",
    "\n",
    "results = []\n",
    "\n",
    "for (count, (index, row)) in tqdm(enumerate(df.iterrows())):\n",
    "\n",
    "    if count != index:\n",
    "        print('Mistmatch', index, count)\n",
    "\n",
    "    cen_pos = SkyCoord(ra=row['RA']*u.deg, dec=row['DEC']*u.deg)\n",
    "    \n",
    "    bmu_pos    = ed.get_bmu(index)\n",
    "    bmu_ed     = ed.get_bmu_ed(index)\n",
    "    bmu_index  = bmu_pos_to_index(bmu_pos, width=som.file_head[1])\n",
    "    trans_info = transform.get_neuron_transform(index, bmu_pos)\n",
    "    \n",
    "    # Annotate_map_features.py script recorded positions around the \n",
    "    # incorrect convention\n",
    "    key = (bmu_pos[1], bmu_pos[0]) + (0,)\n",
    "    bmu = annotations[key]\n",
    "\n",
    "\n",
    "    # Transform annotated clicks \n",
    "    r_feature_trans = bmu.transform_clicks(trans_info, channel=0, order=True)\n",
    "    ir_feature_trans = bmu.transform_clicks(trans_info, channel=1, order=True)\n",
    "    \n",
    "    fake_trans = [np.random.randint(2), np.float64(np.random.uniform(0,2*np.pi))]\n",
    "    fake_r_feature_trans = bmu.transform_clicks(fake_trans, channel=0, order=True)\n",
    "    fake_ir_feature_trans = bmu.transform_clicks(fake_trans, channel=1, order=True)\n",
    "    \n",
    "    # Transform annotated clicks \n",
    "    dx, dy = ir_feature_trans[0]\n",
    "    ir_pos = pu.estimate_position(cen_pos, dx, dy, pix_scale=FIRST_PIX)\n",
    "    dx, dy = fake_ir_feature_trans[0]\n",
    "    fake_ir_pos = pu.estimate_position(cen_pos, dx, dy, pix_scale=FIRST_PIX)\n",
    "    \n",
    "    score = percentileofscore(ed.data[:,key[1],key[0]], ed.data[index, key[1], key[0]])\n",
    "    \n",
    "    for count_click, (r_click, fake_r_click) in enumerate(zip(r_feature_trans, fake_r_feature_trans)):\n",
    "        \n",
    "        dx, dy = r_click\n",
    "        fdx, fdy = fake_r_click\n",
    "        \n",
    "        comp_pos = pu.estimate_position(cen_pos, dx, dy, pix_scale=FIRST_PIX)\n",
    "        fake_pos = pu.estimate_position(cen_pos, fdx, fdy, pix_scale=FIRST_PIX)\n",
    "        \n",
    "        results.append({'pred_ra':  comp_pos.ra.deg,\n",
    "                        'pred_dec': comp_pos.dec.deg,\n",
    "                        'pred_sep': comp_pos.separation(cen_pos).to(u.deg).value,\n",
    "                        'fake_ra':  fake_pos.ra.deg,\n",
    "                        'fake_dec': fake_pos.dec.deg,\n",
    "                        'fake_sep': fake_pos.separation(cen_pos).to(u.deg).value,                        \n",
    "                        'first_ra':  row['RA'],\n",
    "                        'first_dec': row['DEC'],\n",
    "                        'first_index': index,\n",
    "                        'host_ra':ir_pos.ra.deg,\n",
    "                        'host_dec':ir_pos.dec.deg,\n",
    "                        'fake_host_ra':fake_ir_pos.ra.deg,\n",
    "                        'fake_host_dec':fake_ir_pos.dec.deg,\n",
    "                        'bmu_ed': bmu_ed,\n",
    "                        'bmu_score':score,\n",
    "                        'bmu_index': bmu_index,\n",
    "                        'bmu_pos':bmu_pos,\n",
    "                        'bmu_clicks': len(r_feature_trans),\n",
    "                        'click_count': count_click,\n",
    "                        'pred_index':index,\n",
    "                       **row})\n",
    "         "
   ]
  },
  {
   "cell_type": "code",
   "execution_count": 6,
   "metadata": {},
   "outputs": [],
   "source": [
    "radio_df = pd.DataFrame(results)"
   ]
  },
  {
   "cell_type": "code",
   "execution_count": 7,
   "metadata": {},
   "outputs": [],
   "source": [
    "radio_df.to_csv('Predicting_radio_complete_whost_worder.csv')"
   ]
  },
  {
   "cell_type": "code",
   "execution_count": 8,
   "metadata": {},
   "outputs": [
    {
     "data": {
      "text/plain": [
       "(207054, 49)"
      ]
     },
     "execution_count": 8,
     "metadata": {},
     "output_type": "execute_result"
    }
   ],
   "source": [
    "radio_df.shape"
   ]
  },
  {
   "cell_type": "code",
   "execution_count": 52,
   "metadata": {},
   "outputs": [
    {
     "name": "stdout",
     "output_type": "stream",
     "text": [
      "178859\n"
     ]
    },
    {
     "data": {
      "image/png": "[encoded data removed]",
      "text/plain": [
       "<Figure size 252x252 with 1 Axes>"
      ]
     },
     "metadata": {
      "needs_background": "light"
     },
     "output_type": "display_data"
    }
   ],
   "source": [
    "uniq = np.unique(radio_df['pred_index'], return_index=True)\n",
    "\n",
    "\n",
    "fig, ax = plt.subplots(1,1, figsize=(3.5, 3.5))\n",
    "v = 100.-radio_df.loc[uniq[1]]['bmu_score']\n",
    "# v = 100.-radio_df['bmu_score']\n",
    "\n",
    "print(len(v))\n",
    "\n",
    "ax.hist(v, bins=50, log=True, histtype=\"stepfilled\", edgecolor='none')\n",
    "ax.set(xlabel='BMU Score', ylabel='Count')\n",
    "ax.set(ylim=[1000,None])\n",
    "q = np.percentile(v, [25,50,75])\n",
    "for l in q:\n",
    "    ax.axvline(l, color='black', ls='--')\n",
    "\n",
    "fig.tight_layout()\n",
    "fig.savefig('Images/Figure_BMU_Score_Dist.pdf')"
   ]
  },
  {
   "cell_type": "code",
   "execution_count": 47,
   "metadata": {},
   "outputs": [
    {
     "data": {
      "text/plain": [
       "119304"
      ]
     },
     "execution_count": 47,
     "metadata": {},
     "output_type": "execute_result"
    }
   ],
   "source": [
    "np.sum(v > 60)"
   ]
  },
  {
   "cell_type": "code",
   "execution_count": null,
   "metadata": {},
   "outputs": [],
   "source": []
  },
  {
   "cell_type": "code",
   "execution_count": null,
   "metadata": {},
   "outputs": [],
   "source": []
  }
 ],
 "metadata": {
  "kernelspec": {
   "display_name": "Python [conda env:pink_e3]",
   "language": "python",
   "name": "conda-env-pink_e3-py"
  },
  "language_info": {
   "codemirror_mode": {
    "name": "ipython",
    "version": 3
   },
   "file_extension": ".py",
   "mimetype": "text/x-python",
   "name": "python",
   "nbconvert_exporter": "python",
   "pygments_lexer": "ipython3",
   "version": "3.7.1"
  }
 },
 "nbformat": 4,
 "nbformat_minor": 2
}
